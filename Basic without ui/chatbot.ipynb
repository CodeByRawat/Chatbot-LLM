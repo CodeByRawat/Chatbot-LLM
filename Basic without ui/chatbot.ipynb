{
 "cells": [
  {
   "cell_type": "code",
   "execution_count": 49,
   "id": "6ce85db3",
   "metadata": {},
   "outputs": [],
   "source": [
    "# IMPORTING MODULES \n",
    "import os\n",
    "from openai import OpenAI\n",
    "from dotenv import load_dotenv  "
   ]
  },
  {
   "cell_type": "code",
   "execution_count": 50,
   "id": "307027ff",
   "metadata": {},
   "outputs": [
    {
     "data": {
      "text/plain": [
       "True"
      ]
     },
     "execution_count": 50,
     "metadata": {},
     "output_type": "execute_result"
    }
   ],
   "source": [
    "# Load the key from the environment\n",
    "load_dotenv(override=True)\n"
   ]
  },
  {
   "cell_type": "code",
   "execution_count": null,
   "id": "838e9717",
   "metadata": {},
   "outputs": [],
   "source": []
  },
  {
   "cell_type": "code",
   "execution_count": 51,
   "id": "ca36072a",
   "metadata": {},
   "outputs": [],
   "source": [
    "system_prompt='you are an helpful assistant'\n",
    "history =[{'role':'system','content':system_prompt}]\n"
   ]
  },
  {
   "cell_type": "code",
   "execution_count": 52,
   "id": "44361b5c",
   "metadata": {},
   "outputs": [],
   "source": [
    "openai=OpenAI()\n"
   ]
  },
  {
   "cell_type": "code",
   "execution_count": 53,
   "id": "cd4cfca0",
   "metadata": {},
   "outputs": [],
   "source": [
    "def chat(user_input):\n",
    "    history.append({'role':'user','content':user_input})\n",
    "    response=openai.chat.completions.create(\n",
    "        model='gpt-4o-mini',\n",
    "        messages=history,\n",
    "        stream=True\n",
    "    )\n",
    "    content=''\n",
    "    gpt_repsonse=''\n",
    "    for chunk in response:\n",
    "        content=chunk.choices[0].delta.content or ''\n",
    "        gpt_repsonse+=content\n",
    "        yield content\n",
    "    # also store this response in history\n",
    "    history.append({'role':'assistant','content':gpt_repsonse})\n"
   ]
  },
  {
   "cell_type": "code",
   "execution_count": null,
   "id": "74053f89",
   "metadata": {},
   "outputs": [],
   "source": [
    "while True:\n",
    "    user_input = input('\\nYou: ')\n",
    "    if user_input.lower() in ['bye', 'quit', 'exit']:\n",
    "        print('Assistant: Goodbye! 👋')\n",
    "        break\n",
    "\n",
    "    print(f'\\nYou: {user_input}')  # Print your input\n",
    "    print(\"Assistant:\", end=' ', flush=True)\n",
    "    # end=' ' tells the assistant dont go to next line\n",
    "\n",
    "    for token in chat(user_input):\n",
    "        print(token, end='', flush=True)\n",
    "    \n",
    "    print()"
   ]
  }
 ],
 "metadata": {
  "kernelspec": {
   "display_name": "llms",
   "language": "python",
   "name": "python3"
  },
  "language_info": {
   "codemirror_mode": {
    "name": "ipython",
    "version": 3
   },
   "file_extension": ".py",
   "mimetype": "text/x-python",
   "name": "python",
   "nbconvert_exporter": "python",
   "pygments_lexer": "ipython3",
   "version": "3.11.13"
  }
 },
 "nbformat": 4,
 "nbformat_minor": 5
}
